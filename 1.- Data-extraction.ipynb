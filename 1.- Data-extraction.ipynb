{
 "cells": [
  {
   "cell_type": "markdown",
   "metadata": {},
   "source": [
    "### Extrayendo la data"
   ]
  },
  {
   "cell_type": "code",
   "execution_count": 1,
   "metadata": {},
   "outputs": [],
   "source": [
    "import requests\n",
    "from bs4 import BeautifulSoup\n",
    "import pickle"
   ]
  },
  {
   "cell_type": "code",
   "execution_count": 2,
   "metadata": {},
   "outputs": [],
   "source": [
    "def url_to_transcript(url):\n",
    "    page = requests.get(url).text\n",
    "    soup = BeautifulSoup(page, 'lxml')\n",
    "    transcript = [p.text for p in soup.find(attrs={'data-id': '74af9a5b'}).find_all('p')]\n",
    "    return transcript"
   ]
  },
  {
   "cell_type": "code",
   "execution_count": 3,
   "metadata": {},
   "outputs": [],
   "source": [
    "urls = [\n",
    "    'http://scrapsfromtheloft.com/2017/05/06/louis-ck-oh-my-god-full-transcript/',\n",
    "    'http://scrapsfromtheloft.com/2017/04/11/dave-chappelle-age-spin-2017-full-transcript/',\n",
    "    'http://scrapsfromtheloft.com/2018/03/15/ricky-gervais-humanity-transcript/',\n",
    "    'https://scrapsfromtheloft.com/comedy/bo-burnham-what-transcript/',\n",
    "    'http://scrapsfromtheloft.com/2017/05/24/bill-burr-im-sorry-feel-way-2014-full-transcript/',\n",
    "    'http://scrapsfromtheloft.com/2017/04/21/jim-jefferies-bare-2014-full-transcript/',\n",
    "    'http://scrapsfromtheloft.com/2017/08/02/john-mulaney-comeback-kid-2015-full-transcript/',\n",
    "    'https://scrapsfromtheloft.com/comedy/hasan-minhaj-homecoming-king-transcript/',\n",
    "    'http://scrapsfromtheloft.com/2017/09/19/ali-wong-baby-cobra-2016-full-transcript/',\n",
    "    'http://scrapsfromtheloft.com/2017/08/03/anthony-jeselnik-thoughts-prayers-2015-full-transcript/',\n",
    "    'http://scrapsfromtheloft.com/2018/03/03/mike-birbiglia-my-girlfriends-boyfriend-2013-full-transcript/',\n",
    "    'http://scrapsfromtheloft.com/2017/08/19/joe-rogan-triggered-2016-full-transcript/'\n",
    "]\n",
    "comedians = ['louis', 'dave', 'ricky', 'bo', 'bill', 'jim', 'john', 'hasan', 'ali', 'anthony', 'mike', 'joe']"
   ]
  },
  {
   "cell_type": "code",
   "execution_count": 4,
   "metadata": {},
   "outputs": [
    {
     "name": "stdout",
     "output_type": "stream",
     "text": [
      "Transcripting from http://scrapsfromtheloft.com/2017/05/06/louis-ck-oh-my-god-full-transcript/\n",
      "Agregado correctamente!\n",
      "Transcripting from http://scrapsfromtheloft.com/2017/04/11/dave-chappelle-age-spin-2017-full-transcript/\n",
      "Agregado correctamente!\n",
      "Transcripting from http://scrapsfromtheloft.com/2018/03/15/ricky-gervais-humanity-transcript/\n",
      "Agregado correctamente!\n",
      "Transcripting from https://scrapsfromtheloft.com/comedy/bo-burnham-what-transcript/\n",
      "Agregado correctamente!\n",
      "Transcripting from http://scrapsfromtheloft.com/2017/05/24/bill-burr-im-sorry-feel-way-2014-full-transcript/\n",
      "Agregado correctamente!\n",
      "Transcripting from http://scrapsfromtheloft.com/2017/04/21/jim-jefferies-bare-2014-full-transcript/\n",
      "Agregado correctamente!\n",
      "Transcripting from http://scrapsfromtheloft.com/2017/08/02/john-mulaney-comeback-kid-2015-full-transcript/\n",
      "Agregado correctamente!\n",
      "Transcripting from https://scrapsfromtheloft.com/comedy/hasan-minhaj-homecoming-king-transcript/\n",
      "Agregado correctamente!\n",
      "Transcripting from http://scrapsfromtheloft.com/2017/09/19/ali-wong-baby-cobra-2016-full-transcript/\n",
      "Agregado correctamente!\n",
      "Transcripting from http://scrapsfromtheloft.com/2017/08/03/anthony-jeselnik-thoughts-prayers-2015-full-transcript/\n",
      "Agregado correctamente!\n",
      "Transcripting from http://scrapsfromtheloft.com/2018/03/03/mike-birbiglia-my-girlfriends-boyfriend-2013-full-transcript/\n",
      "Agregado correctamente!\n",
      "Transcripting from http://scrapsfromtheloft.com/2017/08/19/joe-rogan-triggered-2016-full-transcript/\n",
      "Agregado correctamente!\n"
     ]
    }
   ],
   "source": [
    "#Testeando que los links esten funcionales, si lo estan entran a la lista de transcripts, cambiar algun link si es necesario\n",
    "transcripts = []\n",
    "for i in urls:\n",
    "    try:\n",
    "        print(f'Transcripting from {i}')\n",
    "        transcripts.append(url_to_transcript(i))\n",
    "        print('Agregado correctamente!')\n",
    "    except AttributeError:\n",
    "        print(f'Error with {i}, skipping')\n",
    "        continue"
   ]
  },
  {
   "cell_type": "code",
   "execution_count": 16,
   "metadata": {},
   "outputs": [
    {
     "data": {
      "text/plain": [
       "'Bo What? Old MacDonald had a farm E I E I O And on that farm he had a pig E I E I O Here a snort There a Old MacDonald had a farm E I E I O [Applause] This is Bo Burnham. He’s 22 years old. He’s a male. And he looks like the genetic product of a giraffe having sex with Ellen Degeneres. He has a gigantic head and tiny nipples. He’s isolated himself over the last 5 years in pursuit of comedy. And, in doing so, has lost touch with reality. You’re an asshole, Bo. You hear me? You think you know better than me. You think you know better than everybody. You will die alone. And you will deserve it. But in the meantime, you might as well tell those silly jokes of yours. See if that helps. [Up beat music starts] You used to do comedy when you felt like being funny. But now you’re contractially obligated so dance you fucking monkey. DANCE, MONKEY, DANCE! Welcome to the show this is Bo, this is his show. And Bo likes to dance like this. Welcome to the show, this is Bo this is his show. And Bo takes off his pants like this. Play an invisible drum. [Invisible drum sounds] Play an invisible trumpet. Trumpet sound! Drink some invisible water, OH SHIT! That water is real! Bo wants to make you feel comfortable. Bo wants to make you feel comfortable. Random voice Bo wants to make you feel comfortable. So sit back, relax, and enjoy a healthy dose of prolonged eye contact. prolonged eye contact. prolonged eye contact. prolonged eye contact. prolonged eye contact. prolonged eye contact. prolonged eye contact. prolonged eye contact. prolonged eye contact. prolonged eye contact. prolonged eye contact. prolonged eye contact. prolonged eye contact. prolonged eye contact. prolonged eye contact. prolonged eye contact. prolonged eye contact. prolonged eye contact. prolonged eye contact. prolonged eye contact. prolonged eye contact. Lick your lips to make it more comforting. Do you wanna see a magic trick? Yeah! Do you wanna see a magic trick? Yeah! Do you wanna see a magic trick? Then pick a card any card. SIKE! Magic isn’t real, you idiot. Read a book. Magic isn’t real, you idiot. Read a book. Magic isn’t real, you idiot. Read a book. Magic isn’t real. Or is it? And at that moment, Bo’s 20-year-old cynicism melted into childlike wonder. He never knew there could be so much magic in the world. It’s a world of possibilities, Bo. What do you wanna do first? Run? Yeah, sure you can run. Fly? Well yeah, you can fly. What? What are you… What the fuck you… What the fuck are you doing? Stop- St- Stop it! What the f- You fucking idiot, stop. Stop. Stop. Anyways. In the distance, Bo saw a beautiful fairy. A fairy so beautiful that he felt proud about being called one in high school. He then came across an old bridge with a troll standing guard. Bo knew that he’d have to answer a riddle to get by. The troll spoke thus: “All right, for the last time man, I’m not a troll.” “I’m homeless.” “Okay? Do you have any spare change?” “Okay, that’s a used napkin.” “I don’t want that.” “No. No, stop. Just-” “You know, leave. Just leave. Please leave.” And then, as Bo arrived on the other side of the stage, he saw a unicorn with 5 horns right in front of him. And the pentacorn spoke thus: “Hello, Bo!” ‘I’ve been looking for you for quite a long time no-” [Gunshots] [Reloading] [Gunshots] He was safe. For now… But the dark thoughts would soon return. IT’S GODZILLA! AAAAHHHHH!!! AAAAAHHHHHHH!!!!! [Screeching] OH MY GOD AHHHHH!!!! [Screeching] GODZILLA!! AAAAAUUUGGHHHHHH!!! [Screeching] It’s so hard to be a lizard. It’s hard to be a lizard. Tiny arms, itchy gizzard. It’s hard to be a lizard. But it’s harder to segue. Is he skiing? Or is he in a gay porn? Is he skiing? What? Or is he in a gay porn? Is he skiing? Huh! Or is he in a gay porn? Here’s a hint. He’s in a gay porn. Okay Bo, this miming shit is getting pretty annoying. So give ’em the real thing! [Autotuned] My voice is so fucking natural. [Autotuned] It’s naturally good. [Out of tune] Naturally good! Na-a-a-aturally good. This is the end of the song and the beginning of the show. Welcome to the show! [Applause] That lizard part was pretty fucking stupid.'"
      ]
     },
     "execution_count": 16,
     "metadata": {},
     "output_type": "execute_result"
    }
   ],
   "source": [
    "#Revisando que la extracción haya sido exitosa\n",
    "#Deberia mostrar un fragmento de Bo Burhnman\n",
    "transcripts[3][0]"
   ]
  },
  {
   "cell_type": "code",
   "execution_count": 17,
   "metadata": {},
   "outputs": [
    {
     "name": "stdout",
     "output_type": "stream",
     "text": [
      "mkdir: cannot create directory ‘pickles’: File exists\n"
     ]
    }
   ],
   "source": [
    "#Pickeleamos las transcripciones dentro de una nueva carpeta\n",
    "!mkdir pickles\n",
    "\n",
    "for i,c in enumerate(comedians):\n",
    "    with open('pickles/'+c+'.pkl', 'wb') as f:\n",
    "        pickle.dump(transcripts[i], f)"
   ]
  }
 ],
 "metadata": {
  "interpreter": {
   "hash": "a5fd509a702e076703300291cf6123252f17c79f2ebeeedc01fb535516972cd9"
  },
  "kernelspec": {
   "display_name": "Python 3.9.2 ('nlp-project': venv)",
   "language": "python",
   "name": "python3"
  },
  "language_info": {
   "codemirror_mode": {
    "name": "ipython",
    "version": 3
   },
   "file_extension": ".py",
   "mimetype": "text/x-python",
   "name": "python",
   "nbconvert_exporter": "python",
   "pygments_lexer": "ipython3",
   "version": "3.9.2"
  },
  "orig_nbformat": 4
 },
 "nbformat": 4,
 "nbformat_minor": 2
}
